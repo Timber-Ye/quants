{
 "cells": [
  {
   "cell_type": "code",
   "execution_count": 6,
   "metadata": {},
   "outputs": [
    {
     "name": "stdout",
     "output_type": "stream",
     "text": [
      "body:  \n",
      "header:  {'Content-Type': 'application/json', 'OK-ACCESS-KEY': '8da5d3ad-7554-424e-a1c2-bfcead40dcdd', 'OK-ACCESS-SIGN': b'/iPQ0x5kiH3UCZRc2js7xjKqqrr28dOjLbS1ZDfjdtU=', 'OK-ACCESS-TIMESTAMP': '2023-04-13T14:25:05.242Z', 'OK-ACCESS-PASSPHRASE': 'lxc123@LXC', 'x-simulated-trading': '1'}\n",
      "domain: https://www.okx.com\n",
      "url: /api/v5/account/balance\n",
      "{'code': '0', 'data': [{'adjEq': '', 'details': [{'availBal': '3', 'availEq': '', 'cashBal': '3', 'ccy': 'BTC', 'crossLiab': '', 'disEq': '90778.5', 'eq': '3', 'eqUsd': '90778.5', 'fixedBal': '0', 'frozenBal': '0', 'interest': '', 'isoEq': '', 'isoLiab': '', 'isoUpl': '', 'liab': '', 'maxLoan': '', 'mgnRatio': '', 'notionalLever': '', 'ordFrozen': '0', 'spotInUseAmt': '', 'stgyEq': '0', 'twap': '0', 'uTime': '1681395489148', 'upl': '', 'uplLiab': ''}, {'availBal': '15', 'availEq': '', 'cashBal': '15', 'ccy': 'ETH', 'crossLiab': '', 'disEq': '29957.7', 'eq': '15', 'eqUsd': '29957.7', 'fixedBal': '0', 'frozenBal': '0', 'interest': '', 'isoEq': '', 'isoLiab': '', 'isoUpl': '', 'liab': '', 'maxLoan': '', 'mgnRatio': '', 'notionalLever': '', 'ordFrozen': '0', 'spotInUseAmt': '', 'stgyEq': '0', 'twap': '0', 'uTime': '1680778565815', 'upl': '', 'uplLiab': ''}, {'availBal': '300', 'availEq': '', 'cashBal': '300', 'ccy': 'OKB', 'crossLiab': '', 'disEq': '11510.910000000002', 'eq': '300', 'eqUsd': '12789.900000000001', 'fixedBal': '0', 'frozenBal': '0', 'interest': '', 'isoEq': '', 'isoLiab': '', 'isoUpl': '', 'liab': '', 'maxLoan': '', 'mgnRatio': '', 'notionalLever': '', 'ordFrozen': '0', 'spotInUseAmt': '', 'stgyEq': '0', 'twap': '0', 'uTime': '1680778565728', 'upl': '', 'uplLiab': ''}, {'availBal': '300', 'availEq': '', 'cashBal': '300', 'ccy': 'JFI', 'crossLiab': '', 'disEq': '0', 'eq': '300', 'eqUsd': '10276.393680000001', 'fixedBal': '0', 'frozenBal': '0', 'interest': '', 'isoEq': '', 'isoLiab': '', 'isoUpl': '', 'liab': '', 'maxLoan': '', 'mgnRatio': '', 'notionalLever': '', 'ordFrozen': '0', 'spotInUseAmt': '', 'stgyEq': '0', 'twap': '0', 'uTime': '1680778565758', 'upl': '', 'uplLiab': ''}, {'availBal': '1500', 'availEq': '', 'cashBal': '1500', 'ccy': 'UNI', 'crossLiab': '', 'disEq': '7871.849999999999', 'eq': '1500', 'eqUsd': '9261', 'fixedBal': '0', 'frozenBal': '0', 'interest': '', 'isoEq': '', 'isoLiab': '', 'isoUpl': '', 'liab': '', 'maxLoan': '', 'mgnRatio': '', 'notionalLever': '', 'ordFrozen': '0', 'spotInUseAmt': '', 'stgyEq': '0', 'twap': '0', 'uTime': '1680778565787', 'upl': '', 'uplLiab': ''}, {'availBal': '9000', 'availEq': '', 'cashBal': '9000', 'ccy': 'USDT', 'crossLiab': '', 'disEq': '9006.39', 'eq': '9000', 'eqUsd': '9006.39', 'fixedBal': '0', 'frozenBal': '0', 'interest': '', 'isoEq': '', 'isoLiab': '', 'isoUpl': '', 'liab': '', 'maxLoan': '', 'mgnRatio': '', 'notionalLever': '', 'ordFrozen': '0', 'spotInUseAmt': '', 'stgyEq': '0', 'twap': '0', 'uTime': '1681395489134', 'upl': '', 'uplLiab': ''}, {'availBal': '9000', 'availEq': '', 'cashBal': '9000', 'ccy': 'TUSD', 'crossLiab': '', 'disEq': '9000', 'eq': '9000', 'eqUsd': '9000', 'fixedBal': '0', 'frozenBal': '0', 'interest': '', 'isoEq': '', 'isoLiab': '', 'isoUpl': '', 'liab': '', 'maxLoan': '', 'mgnRatio': '', 'notionalLever': '', 'ordFrozen': '0', 'spotInUseAmt': '', 'stgyEq': '0', 'twap': '0', 'uTime': '1680778565801', 'upl': '', 'uplLiab': ''}, {'availBal': '9000', 'availEq': '', 'cashBal': '9000', 'ccy': 'USDK', 'crossLiab': '', 'disEq': '9000', 'eq': '9000', 'eqUsd': '9000', 'fixedBal': '0', 'frozenBal': '0', 'interest': '', 'isoEq': '', 'isoLiab': '', 'isoUpl': '', 'liab': '', 'maxLoan': '', 'mgnRatio': '', 'notionalLever': '', 'ordFrozen': '0', 'spotInUseAmt': '', 'stgyEq': '0', 'twap': '0', 'uTime': '1680778565699', 'upl': '', 'uplLiab': ''}, {'availBal': '9000', 'availEq': '', 'cashBal': '9000', 'ccy': 'USDC', 'crossLiab': '', 'disEq': '8366.652', 'eq': '9000', 'eqUsd': '8996.4', 'fixedBal': '0', 'frozenBal': '0', 'interest': '', 'isoEq': '', 'isoLiab': '', 'isoUpl': '', 'liab': '', 'maxLoan': '', 'mgnRatio': '', 'notionalLever': '', 'ordFrozen': '0', 'spotInUseAmt': '', 'stgyEq': '0', 'twap': '0', 'uTime': '1680778565843', 'upl': '', 'uplLiab': ''}, {'availBal': '9000', 'availEq': '', 'cashBal': '9000', 'ccy': 'PAX', 'crossLiab': '', 'disEq': '8937.9', 'eq': '9000', 'eqUsd': '8937.9', 'fixedBal': '0', 'frozenBal': '0', 'interest': '', 'isoEq': '', 'isoLiab': '', 'isoUpl': '', 'liab': '', 'maxLoan': '', 'mgnRatio': '', 'notionalLever': '', 'ordFrozen': '0', 'spotInUseAmt': '', 'stgyEq': '0', 'twap': '0', 'uTime': '1680778565713', 'upl': '', 'uplLiab': ''}, {'availBal': '30', 'availEq': '', 'cashBal': '30', 'ccy': 'LTC', 'crossLiab': '', 'disEq': '2675.01', 'eq': '30', 'eqUsd': '2815.8', 'fixedBal': '0', 'frozenBal': '0', 'interest': '', 'isoEq': '', 'isoLiab': '', 'isoUpl': '', 'liab': '', 'maxLoan': '', 'mgnRatio': '', 'notionalLever': '', 'ordFrozen': '0', 'spotInUseAmt': '', 'stgyEq': '0', 'twap': '0', 'uTime': '1680778565829', 'upl': '', 'uplLiab': ''}, {'availBal': '30000', 'availEq': '', 'cashBal': '30000', 'ccy': 'TRX', 'crossLiab': '', 'disEq': '1657.5', 'eq': '30000', 'eqUsd': '1950', 'fixedBal': '0', 'frozenBal': '0', 'interest': '', 'isoEq': '', 'isoLiab': '', 'isoUpl': '', 'liab': '', 'maxLoan': '', 'mgnRatio': '', 'notionalLever': '', 'ordFrozen': '0', 'spotInUseAmt': '', 'stgyEq': '0', 'twap': '0', 'uTime': '1680778565856', 'upl': '', 'uplLiab': ''}, {'availBal': '3000', 'availEq': '', 'cashBal': '3000', 'ccy': 'ADA', 'crossLiab': '', 'disEq': '1112.967', 'eq': '3000', 'eqUsd': '1236.63', 'fixedBal': '0', 'frozenBal': '0', 'interest': '', 'isoEq': '', 'isoLiab': '', 'isoUpl': '', 'liab': '', 'maxLoan': '', 'mgnRatio': '', 'notionalLever': '', 'ordFrozen': '0', 'spotInUseAmt': '', 'stgyEq': '0', 'twap': '0', 'uTime': '1680778565869', 'upl': '', 'uplLiab': ''}], 'imr': '', 'isoEq': '', 'mgnRatio': '', 'mmr': '', 'notionalUsd': '', 'ordFroz': '', 'totalEq': '204006.61368', 'uTime': '1681395912065'}], 'msg': ''}\n"
     ]
    }
   ],
   "source": [
    "import okx.Account as Account\n",
    "# import os\n",
    "# os.environ['http_proxy']='http://127.0.0.1:7890'\n",
    "# os.environ['https_proxy']='http://127.0.0.1:7890'\n",
    "flag = \"1\"  # live trading:0 , demo trading: 1\n",
    "api_key = \"8da5d3ad-7554-424e-a1c2-bfcead40dcdd\"\n",
    "secret_key = \"E086EDAC65DF1E55DA72CA2483327CA2\"\n",
    "IP = \"\"\n",
    "passphrase = \"lxc123@LXC\"\n",
    "Permissions = \"Read/Withdraw/Trade\"\n",
    "accountAPI = Account.AccountAPI(api_key, secret_key, passphrase, False, flag)\n",
    "result = accountAPI.get_account_balance()\n",
    "print (result)\n"
   ]
  },
  {
   "cell_type": "code",
   "execution_count": 3,
   "metadata": {},
   "outputs": [
    {
     "name": "stdout",
     "output_type": "stream",
     "text": [
      "header:  {'Content-Type': 'application/json', 'x-simulated-trading': '1'}\n",
      "domain: https://www.okx.com\n",
      "url: /api/v5/market/tickers?instType=SPOT\n"
     ]
    }
   ],
   "source": [
    "import okx.MarketData as MarketData\n",
    "flag = \"1\"  # live trading:0 , demo trading: 1\n",
    "marketDataAPI = MarketData.MarketAPI(flag=flag)\n",
    "result = marketDataAPI.get_tickers(instType=\"SPOT\")\n",
    "# print(result)\n"
   ]
  },
  {
   "cell_type": "code",
   "execution_count": 4,
   "metadata": {},
   "outputs": [
    {
     "name": "stdout",
     "output_type": "stream",
     "text": [
      "body:  \n",
      "header:  {'Content-Type': 'application/json', 'OK-ACCESS-KEY': '8da5d3ad-7554-424e-a1c2-bfcead40dcdd', 'OK-ACCESS-SIGN': b'Idui3/pUAnWZ1vLryd0bjjjADaqgNrQUmdMu5pOPP0k=', 'OK-ACCESS-TIMESTAMP': '2023-04-13T10:57:34.988Z', 'OK-ACCESS-PASSPHRASE': 'lxc123@LXC', 'x-simulated-trading': '1'}\n",
      "domain: https://www.okx.com\n",
      "url: /api/v5/account/config\n",
      "{'code': '0', 'data': [{'acctLv': '1', 'autoLoan': False, 'ctIsoMode': 'automatic', 'greeksType': 'PA', 'ip': '', 'label': 'lxc_test', 'level': 'Lv1', 'levelTmp': '', 'liquidationGear': '-1', 'mgnIsoMode': 'automatic', 'opAuth': '0', 'posMode': 'net_mode', 'roleType': '0', 'spotOffsetType': '', 'traderInsts': [], 'uid': '427695770406422875'}], 'msg': ''}\n",
      "Simple mode\n"
     ]
    }
   ],
   "source": [
    "import okx.Account as Account\n",
    "flag = \"1\"\n",
    "api_key = \"8da5d3ad-7554-424e-a1c2-bfcead40dcdd\"\n",
    "secret_key = \"E086EDAC65DF1E55DA72CA2483327CA2\"\n",
    "IP = \"\"\n",
    "passphrase = \"lxc123@LXC\"\n",
    "Permissions = \"Read/Withdraw/Trade\"\n",
    "accountAPI = Account.AccountAPI(api_key, secret_key, passphrase, False, flag)\n",
    "result = accountAPI.get_account_config()\n",
    "# accountAPI.get_account_balance()\n",
    "print(result)\n",
    "if result['code'] == \"0\":\n",
    "    acctLv = result[\"data\"][0][\"acctLv\"]\n",
    "if acctLv == \"1\":\n",
    "    print(\"Simple mode\")\n",
    "elif acctLv == \"2\":\n",
    "    print(\"Single-currency margin mode\")\n",
    "elif acctLv == \"3\":\n",
    "    print(\"Multi-currency margin mode\")\n",
    "elif acctLv == \"4\":\n",
    "    print(\"Portfolio margin mode\")\n"
   ]
  },
  {
   "cell_type": "code",
   "execution_count": 5,
   "metadata": {},
   "outputs": [
    {
     "name": "stdout",
     "output_type": "stream",
     "text": [
      "body:  \n",
      "header:  {'Content-Type': 'application/json', 'OK-ACCESS-KEY': '8da5d3ad-7554-424e-a1c2-bfcead40dcdd', 'OK-ACCESS-SIGN': b'1jG9V2igIZ4WS2QkOgwxClJ0yPKxpVnraPZCOpg6gs4=', 'OK-ACCESS-TIMESTAMP': '2023-04-13T14:19:38.126Z', 'OK-ACCESS-PASSPHRASE': 'lxc123@LXC', 'x-simulated-trading': '0'}\n",
      "domain: https://www.okx.com\n",
      "url: /api/v5/account/balance\n",
      "{\"msg\":\"APIKey does not match current environment.\",\"code\":\"50101\"}, 401\n"
     ]
    },
    {
     "ename": "OkxAPIException",
     "evalue": "API Request Error(code=50101): APIKey does not match current environment.",
     "output_type": "error",
     "traceback": [
      "\u001b[1;31m---------------------------------------------------------------------------\u001b[0m",
      "\u001b[1;31mOkxAPIException\u001b[0m                           Traceback (most recent call last)",
      "\u001b[1;32md:\\lianghua\\ok\\quants\\test_api.ipynb 单元格 4\u001b[0m in \u001b[0;36m<cell line: 11>\u001b[1;34m()\u001b[0m\n\u001b[0;32m      <a href='vscode-notebook-cell:/d%3A/lianghua/ok/quants/test_api.ipynb#W3sZmlsZQ%3D%3D?line=7'>8</a>\u001b[0m accountAPI \u001b[39m=\u001b[39m Account\u001b[39m.\u001b[39mAccountAPI(api_key, secret_key, passphrase, \u001b[39mFalse\u001b[39;00m,\u001b[39m'\u001b[39m\u001b[39m0\u001b[39m\u001b[39m'\u001b[39m)\n\u001b[0;32m     <a href='vscode-notebook-cell:/d%3A/lianghua/ok/quants/test_api.ipynb#W3sZmlsZQ%3D%3D?line=9'>10</a>\u001b[0m \u001b[39m# result = accountAPI.get_account_config()\u001b[39;00m\n\u001b[1;32m---> <a href='vscode-notebook-cell:/d%3A/lianghua/ok/quants/test_api.ipynb#W3sZmlsZQ%3D%3D?line=10'>11</a>\u001b[0m result\u001b[39m=\u001b[39maccountAPI\u001b[39m.\u001b[39;49mget_account_balance()\n\u001b[0;32m     <a href='vscode-notebook-cell:/d%3A/lianghua/ok/quants/test_api.ipynb#W3sZmlsZQ%3D%3D?line=11'>12</a>\u001b[0m \u001b[39mfor\u001b[39;00m item \u001b[39min\u001b[39;00m result[\u001b[39m'\u001b[39m\u001b[39mdata\u001b[39m\u001b[39m'\u001b[39m]:\n\u001b[0;32m     <a href='vscode-notebook-cell:/d%3A/lianghua/ok/quants/test_api.ipynb#W3sZmlsZQ%3D%3D?line=12'>13</a>\u001b[0m     \u001b[39mfor\u001b[39;00m detail \u001b[39min\u001b[39;00m item[\u001b[39m'\u001b[39m\u001b[39mdetails\u001b[39m\u001b[39m'\u001b[39m]:\n",
      "File \u001b[1;32mc:\\Users\\11648\\AppData\\Local\\Programs\\Python\\Python39\\lib\\site-packages\\okx\\Account.py:23\u001b[0m, in \u001b[0;36mAccountAPI.get_account_balance\u001b[1;34m(self, ccy)\u001b[0m\n\u001b[0;32m     21\u001b[0m \u001b[39mif\u001b[39;00m ccy:\n\u001b[0;32m     22\u001b[0m     params[\u001b[39m'\u001b[39m\u001b[39mccy\u001b[39m\u001b[39m'\u001b[39m] \u001b[39m=\u001b[39m ccy\n\u001b[1;32m---> 23\u001b[0m \u001b[39mreturn\u001b[39;00m \u001b[39mself\u001b[39;49m\u001b[39m.\u001b[39;49m_request_with_params(GET, ACCOUNT_INFO, params)\n",
      "File \u001b[1;32mc:\\Users\\11648\\AppData\\Local\\Programs\\Python\\Python39\\lib\\site-packages\\okx\\client.py:49\u001b[0m, in \u001b[0;36mClient._request_with_params\u001b[1;34m(self, method, request_path, params)\u001b[0m\n\u001b[0;32m     48\u001b[0m \u001b[39mdef\u001b[39;00m \u001b[39m_request_with_params\u001b[39m(\u001b[39mself\u001b[39m, method, request_path, params):\n\u001b[1;32m---> 49\u001b[0m     \u001b[39mreturn\u001b[39;00m \u001b[39mself\u001b[39;49m\u001b[39m.\u001b[39;49m_request(method, request_path, params)\n",
      "File \u001b[1;32mc:\\Users\\11648\\AppData\\Local\\Programs\\Python\\Python39\\lib\\site-packages\\okx\\client.py:42\u001b[0m, in \u001b[0;36mClient._request\u001b[1;34m(self, method, request_path, params)\u001b[0m\n\u001b[0;32m     40\u001b[0m     response \u001b[39m=\u001b[39m \u001b[39mself\u001b[39m\u001b[39m.\u001b[39mclient\u001b[39m.\u001b[39mpost(request_path, data\u001b[39m=\u001b[39mbody, headers\u001b[39m=\u001b[39mheader)\n\u001b[0;32m     41\u001b[0m \u001b[39mif\u001b[39;00m \u001b[39mnot\u001b[39;00m \u001b[39mstr\u001b[39m(response\u001b[39m.\u001b[39mstatus_code)\u001b[39m.\u001b[39mstartswith(\u001b[39m'\u001b[39m\u001b[39m2\u001b[39m\u001b[39m'\u001b[39m):\n\u001b[1;32m---> 42\u001b[0m     \u001b[39mraise\u001b[39;00m exceptions\u001b[39m.\u001b[39mOkxAPIException(response)\n\u001b[0;32m     43\u001b[0m \u001b[39mreturn\u001b[39;00m response\u001b[39m.\u001b[39mjson()\n",
      "\u001b[1;31mOkxAPIException\u001b[0m: API Request Error(code=50101): APIKey does not match current environment."
     ]
    }
   ],
   "source": [
    "import okx.Account as Account\n",
    "flag = \"1\"\n",
    "api_key = \"8da5d3ad-7554-424e-a1c2-bfcead40dcdd\"\n",
    "secret_key = \"E086EDAC65DF1E55DA72CA2483327CA2\"\n",
    "IP = \"\"\n",
    "passphrase = \"lxc123@LXC\"\n",
    "Permissions = \"Read/Withdraw/Trade\"\n",
    "accountAPI = Account.AccountAPI(api_key, secret_key, passphrase, False, flag)\n",
    "\n",
    "# result = accountAPI.get_account_config()\n",
    "result=accountAPI.get_account_balance()\n",
    "for item in result['data']:\n",
    "    for detail in item['details']:\n",
    "        print(detail['ccy'],detail['cashBal'],detail['availBal'])   #显示币种，币种余额，可用余额\n"
   ]
  },
  {
   "cell_type": "code",
   "execution_count": 8,
   "metadata": {},
   "outputs": [
    {
     "name": "stdout",
     "output_type": "stream",
     "text": [
      "body:  \n",
      "header:  {'Content-Type': 'application/json', 'OK-ACCESS-KEY': '8da5d3ad-7554-424e-a1c2-bfcead40dcdd', 'OK-ACCESS-SIGN': b'7tjQHmmDFG7ZbKwih1ynzHMM0Lxn7Eyk4Nqb8a3E4Mg=', 'OK-ACCESS-TIMESTAMP': '2023-04-13T14:28:31.019Z', 'OK-ACCESS-PASSPHRASE': 'lxc123@LXC', 'x-simulated-trading': '1'}\n",
      "domain: https://www.okx.com\n",
      "url: /api/v5/asset/balances?ccy=USDT\n",
      "{'code': '0', 'data': [{'availBal': '0', 'bal': '0', 'ccy': 'USDT', 'frozenBal': '0'}], 'msg': ''}\n"
     ]
    }
   ],
   "source": [
    "import okx.Funding as Funding\n",
    "\n",
    "flag = \"1\"\n",
    "api_key = \"8da5d3ad-7554-424e-a1c2-bfcead40dcdd\"\n",
    "secret_key = \"E086EDAC65DF1E55DA72CA2483327CA2\"\n",
    "IP = \"\"\n",
    "passphrase = \"lxc123@LXC\"\n",
    "Permissions = \"Read/Withdraw/Trade\"\n",
    "\n",
    "fundingAPI=Funding.FundingAPI(api_key, secret_key, passphrase, False, flag)\n",
    "# result=fundingAPI.get_deposit_history()\n",
    "# print(result)\n",
    "result=fundingAPI.get_balances(ccy='USDT')\n",
    "print(result)"
   ]
  },
  {
   "cell_type": "code",
   "execution_count": 19,
   "metadata": {},
   "outputs": [
    {
     "name": "stdout",
     "output_type": "stream",
     "text": [
      "header:  {'Content-Type': 'application/json', 'x-simulated-trading': '1'}\n",
      "domain: https://www.okx.com\n",
      "url: /api/v5/market/history-candles?instId=BTC-USD-SWAP&bar=15m\n",
      "<class 'list'>\n",
      "(100, 5)\n"
     ]
    },
    {
     "data": {
      "text/html": [
       "<div>\n",
       "<style scoped>\n",
       "    .dataframe tbody tr th:only-of-type {\n",
       "        vertical-align: middle;\n",
       "    }\n",
       "\n",
       "    .dataframe tbody tr th {\n",
       "        vertical-align: top;\n",
       "    }\n",
       "\n",
       "    .dataframe thead th {\n",
       "        text-align: right;\n",
       "    }\n",
       "</style>\n",
       "<table border=\"1\" class=\"dataframe\">\n",
       "  <thead>\n",
       "    <tr style=\"text-align: right;\">\n",
       "      <th></th>\n",
       "      <th>open</th>\n",
       "      <th>high</th>\n",
       "      <th>low</th>\n",
       "      <th>close</th>\n",
       "      <th>volume</th>\n",
       "    </tr>\n",
       "  </thead>\n",
       "  <tbody>\n",
       "    <tr>\n",
       "      <th>0</th>\n",
       "      <td>30227.5</td>\n",
       "      <td>30275.4</td>\n",
       "      <td>30227.5</td>\n",
       "      <td>30233.8</td>\n",
       "      <td>129264</td>\n",
       "    </tr>\n",
       "    <tr>\n",
       "      <th>1</th>\n",
       "      <td>30227.4</td>\n",
       "      <td>30269.3</td>\n",
       "      <td>30215.3</td>\n",
       "      <td>30228.3</td>\n",
       "      <td>104120</td>\n",
       "    </tr>\n",
       "    <tr>\n",
       "      <th>2</th>\n",
       "      <td>30196.9</td>\n",
       "      <td>30238.4</td>\n",
       "      <td>30179.8</td>\n",
       "      <td>30231.4</td>\n",
       "      <td>110791</td>\n",
       "    </tr>\n",
       "    <tr>\n",
       "      <th>3</th>\n",
       "      <td>30239.2</td>\n",
       "      <td>30246</td>\n",
       "      <td>30199.9</td>\n",
       "      <td>30199.9</td>\n",
       "      <td>49427</td>\n",
       "    </tr>\n",
       "    <tr>\n",
       "      <th>4</th>\n",
       "      <td>30212.1</td>\n",
       "      <td>30247</td>\n",
       "      <td>29613.2</td>\n",
       "      <td>30238.6</td>\n",
       "      <td>142472</td>\n",
       "    </tr>\n",
       "    <tr>\n",
       "      <th>...</th>\n",
       "      <td>...</td>\n",
       "      <td>...</td>\n",
       "      <td>...</td>\n",
       "      <td>...</td>\n",
       "      <td>...</td>\n",
       "    </tr>\n",
       "    <tr>\n",
       "      <th>95</th>\n",
       "      <td>30018.4</td>\n",
       "      <td>30029.3</td>\n",
       "      <td>29767.1</td>\n",
       "      <td>30016.1</td>\n",
       "      <td>58627</td>\n",
       "    </tr>\n",
       "    <tr>\n",
       "      <th>96</th>\n",
       "      <td>30024.6</td>\n",
       "      <td>30027.4</td>\n",
       "      <td>30002.7</td>\n",
       "      <td>30017.5</td>\n",
       "      <td>40965</td>\n",
       "    </tr>\n",
       "    <tr>\n",
       "      <th>97</th>\n",
       "      <td>30042.3</td>\n",
       "      <td>30049.5</td>\n",
       "      <td>30006.1</td>\n",
       "      <td>30029.3</td>\n",
       "      <td>83698</td>\n",
       "    </tr>\n",
       "    <tr>\n",
       "      <th>98</th>\n",
       "      <td>30011.4</td>\n",
       "      <td>30049.9</td>\n",
       "      <td>30008.8</td>\n",
       "      <td>30042.2</td>\n",
       "      <td>49910</td>\n",
       "    </tr>\n",
       "    <tr>\n",
       "      <th>99</th>\n",
       "      <td>30029.9</td>\n",
       "      <td>30029.9</td>\n",
       "      <td>30009</td>\n",
       "      <td>30014.9</td>\n",
       "      <td>29367</td>\n",
       "    </tr>\n",
       "  </tbody>\n",
       "</table>\n",
       "<p>100 rows × 5 columns</p>\n",
       "</div>"
      ],
      "text/plain": [
       "       open     high      low    close  volume\n",
       "0   30227.5  30275.4  30227.5  30233.8  129264\n",
       "1   30227.4  30269.3  30215.3  30228.3  104120\n",
       "2   30196.9  30238.4  30179.8  30231.4  110791\n",
       "3   30239.2    30246  30199.9  30199.9   49427\n",
       "4   30212.1    30247  29613.2  30238.6  142472\n",
       "..      ...      ...      ...      ...     ...\n",
       "95  30018.4  30029.3  29767.1  30016.1   58627\n",
       "96  30024.6  30027.4  30002.7  30017.5   40965\n",
       "97  30042.3  30049.5  30006.1  30029.3   83698\n",
       "98  30011.4  30049.9  30008.8  30042.2   49910\n",
       "99  30029.9  30029.9    30009  30014.9   29367\n",
       "\n",
       "[100 rows x 5 columns]"
      ]
     },
     "execution_count": 19,
     "metadata": {},
     "output_type": "execute_result"
    }
   ],
   "source": [
    "import okx.MarketData as MarketData\n",
    "import pandas as pd\n",
    "import numpy as np\n",
    "flag = \"1\"  # live trading:0 , demo trading: 1\n",
    "marketDataAPI = MarketData.MarketAPI(flag=flag)\n",
    "# result = marketDataAPI.get_candlesticks(instId='BTC-USD-SWAP')\n",
    "result=marketDataAPI.get_history_candlesticks(instId='BTC-USD-SWAP',bar='15m')\n",
    "print(type(result['data']))\n",
    "df = pd.DataFrame(result['data'])\n",
    "k_data = df.iloc[:, 1:6]\n",
    "k_data.rename(columns={1:'open',2:'high',3:'low',4:'close',5:'volume'}, inplace=True)\n",
    "print(k_data.shape)\n",
    "k_data"
   ]
  },
  {
   "cell_type": "code",
   "execution_count": 1,
   "metadata": {},
   "outputs": [
    {
     "name": "stdout",
     "output_type": "stream",
     "text": [
      "body:  {\"instId\": \"BTC-USDT\", \"tdMode\": \"cash\", \"side\": \"sell\", \"ordType\": \"market\", \"sz\": \"2\", \"ccy\": \"\", \"clOrdId\": \"\", \"tag\": \"\", \"posSide\": \"\", \"px\": \"\", \"reduceOnly\": \"\", \"tgtCcy\": \"\"}\n",
      "header:  {'Content-Type': 'application/json', 'OK-ACCESS-KEY': '8da5d3ad-7554-424e-a1c2-bfcead40dcdd', 'OK-ACCESS-SIGN': b'oPsKMCjMvNvVeKYf/pCZsveTl5KynexxHuF7NZiVdIs=', 'OK-ACCESS-TIMESTAMP': '2023-04-13T13:59:53.848Z', 'OK-ACCESS-PASSPHRASE': 'lxc123@LXC', 'x-simulated-trading': '1'}\n",
      "domain: https://www.okx.com\n",
      "url: /api/v5/trade/order\n",
      "{'code': '1', 'data': [{'clOrdId': '', 'ordId': '', 'sCode': '51008', 'sMsg': 'Order failed. Insufficient BTC balance in account. ', 'tag': ''}], 'msg': 'All operations failed'}\n"
     ]
    }
   ],
   "source": [
    "import okx.Trade as Trade\n",
    "\n",
    "flag = \"1\"\n",
    "api_key = \"8da5d3ad-7554-424e-a1c2-bfcead40dcdd\"\n",
    "secret_key = \"E086EDAC65DF1E55DA72CA2483327CA2\"\n",
    "IP = \"\"\n",
    "passphrase = \"lxc123@LXC\"\n",
    "Permissions = \"Read/Withdraw/Trade\"\n",
    "\n",
    "tradeAPI=Trade.TradeAPI(api_key, secret_key, passphrase, False, flag)\n",
    "\n",
    "result=tradeAPI.place_order(instId='BTC-USDT',tdMode='cash',side='sell',ordType='market',sz='2')\n",
    "print(result)"
   ]
  },
  {
   "cell_type": "code",
   "execution_count": null,
   "metadata": {},
   "outputs": [],
   "source": [
    "import okx.Funding as Funding\n"
   ]
  }
 ],
 "metadata": {
  "kernelspec": {
   "display_name": "Python 3",
   "language": "python",
   "name": "python3"
  },
  "language_info": {
   "codemirror_mode": {
    "name": "ipython",
    "version": 3
   },
   "file_extension": ".py",
   "mimetype": "text/x-python",
   "name": "python",
   "nbconvert_exporter": "python",
   "pygments_lexer": "ipython3",
   "version": "3.9.7"
  },
  "orig_nbformat": 4
 },
 "nbformat": 4,
 "nbformat_minor": 2
}
