{
 "cells": [
  {
   "cell_type": "code",
   "execution_count": 3,
   "metadata": {},
   "outputs": [
    {
     "name": "stdout",
     "output_type": "stream",
     "text": [
      "body:  \n",
      "header:  {'Content-Type': 'application/json', 'OK-ACCESS-KEY': '8da5d3ad-7554-424e-a1c2-bfcead40dcdd', 'OK-ACCESS-SIGN': b'eJqynITAxPhNqRLhqsRavxBRBjhmSAVwH9saBDDGwqc=', 'OK-ACCESS-TIMESTAMP': '2023-04-06T13:47:12.531Z', 'OK-ACCESS-PASSPHRASE': 'lxc123@LXC', 'x-simulated-trading': '1'}\n",
      "domain: https://www.okx.com\n",
      "url: /api/v5/account/balance\n"
     ]
    }
   ],
   "source": [
    "import okx.Account as Account\n",
    "# import os\n",
    "# os.environ['http_proxy']='http://127.0.0.1:7890'\n",
    "# os.environ['https_proxy']='http://127.0.0.1:7890'\n",
    "flag = \"1\"  # live trading:0 , demo trading: 1\n",
    "api_key = \"8da5d3ad-7554-424e-a1c2-bfcead40dcdd\"\n",
    "secret_key = \"E086EDAC65DF1E55DA72CA2483327CA2\"\n",
    "IP = \"\"\n",
    "passphrase = \"lxc123@LXC\"\n",
    "Permissions = \"Read/Withdraw/Trade\"\n",
    "accountAPI = Account.AccountAPI(api_key, secret_key, passphrase, False, flag)\n",
    "result = accountAPI.get_account_balance()\n",
    "# print (result)\n"
   ]
  },
  {
   "cell_type": "code",
   "execution_count": 4,
   "metadata": {},
   "outputs": [
    {
     "name": "stdout",
     "output_type": "stream",
     "text": [
      "header:  {'Content-Type': 'application/json', 'x-simulated-trading': '1'}\n",
      "domain: https://www.okx.com\n",
      "url: /api/v5/market/tickers?instType=SPOT\n"
     ]
    }
   ],
   "source": [
    "import okx.MarketData as MarketData\n",
    "flag = \"1\"  # live trading:0 , demo trading: 1\n",
    "marketDataAPI = MarketData.MarketAPI(flag=flag)\n",
    "result = marketDataAPI.get_tickers(instType=\"SPOT\")\n",
    "# print(result)\n"
   ]
  },
  {
   "cell_type": "code",
   "execution_count": 6,
   "metadata": {},
   "outputs": [
    {
     "name": "stdout",
     "output_type": "stream",
     "text": [
      "body:  \n",
      "header:  {'Content-Type': 'application/json', 'OK-ACCESS-KEY': '8da5d3ad-7554-424e-a1c2-bfcead40dcdd', 'OK-ACCESS-SIGN': b'okoBnSk28mPH7P4sNBeBJYiAmTiEyVdb+PDVQrr4rRI=', 'OK-ACCESS-TIMESTAMP': '2023-04-06T13:50:48.886Z', 'OK-ACCESS-PASSPHRASE': 'lxc123@LXC', 'x-simulated-trading': '1'}\n",
      "domain: https://www.okx.com\n",
      "url: /api/v5/account/config\n",
      "{'code': '0', 'data': [{'acctLv': '1', 'autoLoan': False, 'ctIsoMode': 'automatic', 'greeksType': 'PA', 'ip': '', 'label': 'lxc_test', 'level': 'Lv1', 'levelTmp': '', 'liquidationGear': '-1', 'mgnIsoMode': 'automatic', 'opAuth': '0', 'posMode': 'net_mode', 'roleType': '0', 'spotOffsetType': '', 'traderInsts': [], 'uid': '427695770406422875'}], 'msg': ''}\n",
      "Simple mode\n"
     ]
    }
   ],
   "source": [
    "import okx.Account as Account\n",
    "flag = \"1\"\n",
    "api_key = \"8da5d3ad-7554-424e-a1c2-bfcead40dcdd\"\n",
    "secret_key = \"E086EDAC65DF1E55DA72CA2483327CA2\"\n",
    "IP = \"\"\n",
    "passphrase = \"lxc123@LXC\"\n",
    "Permissions = \"Read/Withdraw/Trade\"\n",
    "accountAPI = Account.AccountAPI(api_key, secret_key, passphrase, False, flag)\n",
    "result = accountAPI.get_account_config()\n",
    "# accountAPI.get_account_balance()\n",
    "print(result)\n",
    "if result['code'] == \"0\":\n",
    "    acctLv = result[\"data\"][0][\"acctLv\"]\n",
    "if acctLv == \"1\":\n",
    "    print(\"Simple mode\")\n",
    "elif acctLv == \"2\":\n",
    "    print(\"Single-currency margin mode\")\n",
    "elif acctLv == \"3\":\n",
    "    print(\"Multi-currency margin mode\")\n",
    "elif acctLv == \"4\":\n",
    "    print(\"Portfolio margin mode\")\n"
   ]
  },
  {
   "cell_type": "code",
   "execution_count": 19,
   "metadata": {},
   "outputs": [
    {
     "name": "stdout",
     "output_type": "stream",
     "text": [
      "body:  \n",
      "header:  {'Content-Type': 'application/json', 'OK-ACCESS-KEY': '8da5d3ad-7554-424e-a1c2-bfcead40dcdd', 'OK-ACCESS-SIGN': b'PRI8R9NRHGbCQskM1y0USbvkTAVwdkSCnE0Ok8mH3vQ=', 'OK-ACCESS-TIMESTAMP': '2023-04-07T02:49:44.739Z', 'OK-ACCESS-PASSPHRASE': 'lxc123@LXC', 'x-simulated-trading': '1'}\n",
      "domain: https://www.okx.com\n",
      "url: /api/v5/account/balance\n",
      "BTC 3 3\n",
      "ETH 15 15\n",
      "OKB 300 300\n",
      "JFI 300 300\n",
      "UNI 1500 1500\n",
      "USDK 9000 9000\n",
      "USDC 9000 9000\n",
      "TUSD 9000 9000\n",
      "USDT 9000 9000\n",
      "PAX 9000 9000\n",
      "LTC 30 30\n",
      "TRX 30000 30000\n",
      "ADA 3000 3000\n"
     ]
    }
   ],
   "source": [
    "import okx.Account as Account\n",
    "\n",
    "\n",
    "\n",
    "flag = \"1\"\n",
    "api_key = \"8da5d3ad-7554-424e-a1c2-bfcead40dcdd\"\n",
    "secret_key = \"E086EDAC65DF1E55DA72CA2483327CA2\"\n",
    "IP = \"\"\n",
    "passphrase = \"lxc123@LXC\"\n",
    "Permissions = \"Read/Withdraw/Trade\"\n",
    "accountAPI = Account.AccountAPI(api_key, secret_key, passphrase, False, flag)\n",
    "\n",
    "# result = accountAPI.get_account_config()\n",
    "result=accountAPI.get_account_balance()\n",
    "for item in result['data']:\n",
    "    for detail in item['details']:\n",
    "        print(detail['ccy'],detail['cashBal'],detail['availBal'])   #显示币种，币种余额，可用余额\n"
   ]
  },
  {
   "cell_type": "code",
   "execution_count": 24,
   "metadata": {},
   "outputs": [
    {
     "name": "stdout",
     "output_type": "stream",
     "text": [
      "body:  \n",
      "header:  {'Content-Type': 'application/json', 'OK-ACCESS-KEY': '8da5d3ad-7554-424e-a1c2-bfcead40dcdd', 'OK-ACCESS-SIGN': b'+SwZDKD7zGaDWjuOwPsy1E45hnLDENp0ShXtWZJZjXc=', 'OK-ACCESS-TIMESTAMP': '2023-04-07T02:58:39.009Z', 'OK-ACCESS-PASSPHRASE': 'lxc123@LXC', 'x-simulated-trading': '1'}\n",
      "domain: https://www.okx.com\n",
      "url: /api/v5/asset/deposit-history\n",
      "{'code': '0', 'data': [], 'msg': ''}\n"
     ]
    }
   ],
   "source": [
    "import okx.Funding as Funding\n",
    "\n",
    "flag = \"1\"\n",
    "api_key = \"8da5d3ad-7554-424e-a1c2-bfcead40dcdd\"\n",
    "secret_key = \"E086EDAC65DF1E55DA72CA2483327CA2\"\n",
    "IP = \"\"\n",
    "passphrase = \"lxc123@LXC\"\n",
    "Permissions = \"Read/Withdraw/Trade\"\n",
    "\n",
    "fundingAPI=Funding.FundingAPI(api_key, secret_key, passphrase, False, flag)\n",
    "result=fundingAPI.get_deposit_history()\n",
    "print(result)"
   ]
  },
  {
   "cell_type": "code",
   "execution_count": 18,
   "metadata": {},
   "outputs": [
    {
     "name": "stdout",
     "output_type": "stream",
     "text": [
      "header:  {'Content-Type': 'application/json', 'x-simulated-trading': '1'}\n",
      "domain: https://www.okx.com\n",
      "url: /api/v5/market/candles?instId=BTC-USD-SWAP\n",
      "<class 'list'>\n"
     ]
    },
    {
     "name": "stderr",
     "output_type": "stream",
     "text": [
      "c:\\Users\\11648\\AppData\\Local\\Programs\\Python\\Python39\\lib\\site-packages\\pandas\\core\\frame.py:4441: SettingWithCopyWarning: \n",
      "A value is trying to be set on a copy of a slice from a DataFrame\n",
      "\n",
      "See the caveats in the documentation: https://pandas.pydata.org/pandas-docs/stable/user_guide/indexing.html#returning-a-view-versus-a-copy\n",
      "  return super().rename(\n"
     ]
    },
    {
     "data": {
      "text/html": [
       "<div>\n",
       "<style scoped>\n",
       "    .dataframe tbody tr th:only-of-type {\n",
       "        vertical-align: middle;\n",
       "    }\n",
       "\n",
       "    .dataframe tbody tr th {\n",
       "        vertical-align: top;\n",
       "    }\n",
       "\n",
       "    .dataframe thead th {\n",
       "        text-align: right;\n",
       "    }\n",
       "</style>\n",
       "<table border=\"1\" class=\"dataframe\">\n",
       "  <thead>\n",
       "    <tr style=\"text-align: right;\">\n",
       "      <th></th>\n",
       "      <th>open</th>\n",
       "      <th>high</th>\n",
       "      <th>low</th>\n",
       "      <th>close</th>\n",
       "    </tr>\n",
       "  </thead>\n",
       "  <tbody>\n",
       "    <tr>\n",
       "      <th>0</th>\n",
       "      <td>27947.2</td>\n",
       "      <td>27959.9</td>\n",
       "      <td>27938.9</td>\n",
       "      <td>27959.9</td>\n",
       "    </tr>\n",
       "    <tr>\n",
       "      <th>1</th>\n",
       "      <td>27952.6</td>\n",
       "      <td>27963.2</td>\n",
       "      <td>27940.1</td>\n",
       "      <td>27946.4</td>\n",
       "    </tr>\n",
       "    <tr>\n",
       "      <th>2</th>\n",
       "      <td>27963.8</td>\n",
       "      <td>27975.2</td>\n",
       "      <td>27944.2</td>\n",
       "      <td>27951.9</td>\n",
       "    </tr>\n",
       "    <tr>\n",
       "      <th>3</th>\n",
       "      <td>27985.2</td>\n",
       "      <td>27993.6</td>\n",
       "      <td>27962</td>\n",
       "      <td>27963.8</td>\n",
       "    </tr>\n",
       "    <tr>\n",
       "      <th>4</th>\n",
       "      <td>28028.7</td>\n",
       "      <td>28028.7</td>\n",
       "      <td>27985.4</td>\n",
       "      <td>27987.1</td>\n",
       "    </tr>\n",
       "    <tr>\n",
       "      <th>...</th>\n",
       "      <td>...</td>\n",
       "      <td>...</td>\n",
       "      <td>...</td>\n",
       "      <td>...</td>\n",
       "    </tr>\n",
       "    <tr>\n",
       "      <th>95</th>\n",
       "      <td>28115.6</td>\n",
       "      <td>28117</td>\n",
       "      <td>28115.6</td>\n",
       "      <td>28116.9</td>\n",
       "    </tr>\n",
       "    <tr>\n",
       "      <th>96</th>\n",
       "      <td>28115.6</td>\n",
       "      <td>28115.6</td>\n",
       "      <td>28115.6</td>\n",
       "      <td>28115.6</td>\n",
       "    </tr>\n",
       "    <tr>\n",
       "      <th>97</th>\n",
       "      <td>28115.6</td>\n",
       "      <td>28115.6</td>\n",
       "      <td>28115.6</td>\n",
       "      <td>28115.6</td>\n",
       "    </tr>\n",
       "    <tr>\n",
       "      <th>98</th>\n",
       "      <td>28115.6</td>\n",
       "      <td>28115.6</td>\n",
       "      <td>28115.6</td>\n",
       "      <td>28115.6</td>\n",
       "    </tr>\n",
       "    <tr>\n",
       "      <th>99</th>\n",
       "      <td>28111.7</td>\n",
       "      <td>28116.6</td>\n",
       "      <td>28111.7</td>\n",
       "      <td>28115.6</td>\n",
       "    </tr>\n",
       "  </tbody>\n",
       "</table>\n",
       "<p>100 rows × 4 columns</p>\n",
       "</div>"
      ],
      "text/plain": [
       "       open     high      low    close\n",
       "0   27947.2  27959.9  27938.9  27959.9\n",
       "1   27952.6  27963.2  27940.1  27946.4\n",
       "2   27963.8  27975.2  27944.2  27951.9\n",
       "3   27985.2  27993.6    27962  27963.8\n",
       "4   28028.7  28028.7  27985.4  27987.1\n",
       "..      ...      ...      ...      ...\n",
       "95  28115.6    28117  28115.6  28116.9\n",
       "96  28115.6  28115.6  28115.6  28115.6\n",
       "97  28115.6  28115.6  28115.6  28115.6\n",
       "98  28115.6  28115.6  28115.6  28115.6\n",
       "99  28111.7  28116.6  28111.7  28115.6\n",
       "\n",
       "[100 rows x 4 columns]"
      ]
     },
     "execution_count": 18,
     "metadata": {},
     "output_type": "execute_result"
    }
   ],
   "source": [
    "import okx.MarketData as MarketData\n",
    "import pandas as pd\n",
    "import numpy as np\n",
    "flag = \"1\"  # live trading:0 , demo trading: 1\n",
    "marketDataAPI = MarketData.MarketAPI(flag=flag)\n",
    "result = marketDataAPI.get_candlesticks(instId='BTC-USD-SWAP')\n",
    "print(type(result['data']))\n",
    "df = pd.DataFrame(result['data'])\n",
    "k_data = df.iloc[:, 1:5]\n",
    "k_data.rename(columns={1:'open',2:'high',3:'low',4:'close'}, inplace=True)\n",
    "k_data"
   ]
  },
  {
   "cell_type": "code",
   "execution_count": null,
   "metadata": {},
   "outputs": [],
   "source": [
    "import okx.asset as asset"
   ]
  }
 ],
 "metadata": {
  "kernelspec": {
   "display_name": "Python 3",
   "language": "python",
   "name": "python3"
  },
  "language_info": {
   "codemirror_mode": {
    "name": "ipython",
    "version": 3
   },
   "file_extension": ".py",
   "mimetype": "text/x-python",
   "name": "python",
   "nbconvert_exporter": "python",
   "pygments_lexer": "ipython3",
   "version": "3.9.7"
  },
  "orig_nbformat": 4
 },
 "nbformat": 4,
 "nbformat_minor": 2
}
