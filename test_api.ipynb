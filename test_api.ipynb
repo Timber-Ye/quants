{
 "cells": [
  {
   "cell_type": "code",
   "execution_count": 2,
   "metadata": {},
   "outputs": [
    {
     "name": "stdout",
     "output_type": "stream",
     "text": [
      "body:  \n",
      "header:  {'Content-Type': 'application/json', 'OK-ACCESS-KEY': '8da5d3ad-7554-424e-a1c2-bfcead40dcdd', 'OK-ACCESS-SIGN': b'DM2iElmmKcBpS8AdL+XWy8QEBThKVnesXYP5miQiw14=', 'OK-ACCESS-TIMESTAMP': '2023-04-13T10:57:33.644Z', 'OK-ACCESS-PASSPHRASE': 'lxc123@LXC', 'x-simulated-trading': '1'}\n",
      "domain: https://www.okx.com\n",
      "url: /api/v5/account/balance\n"
     ]
    }
   ],
   "source": [
    "import okx.Account as Account\n",
    "# import os\n",
    "# os.environ['http_proxy']='http://127.0.0.1:7890'\n",
    "# os.environ['https_proxy']='http://127.0.0.1:7890'\n",
    "flag = \"1\"  # live trading:0 , demo trading: 1\n",
    "api_key = \"8da5d3ad-7554-424e-a1c2-bfcead40dcdd\"\n",
    "secret_key = \"E086EDAC65DF1E55DA72CA2483327CA2\"\n",
    "IP = \"\"\n",
    "passphrase = \"lxc123@LXC\"\n",
    "Permissions = \"Read/Withdraw/Trade\"\n",
    "accountAPI = Account.AccountAPI(api_key, secret_key, passphrase, False, flag)\n",
    "result = accountAPI.get_account_balance()\n",
    "# print (result)\n"
   ]
  },
  {
   "cell_type": "code",
   "execution_count": 3,
   "metadata": {},
   "outputs": [
    {
     "name": "stdout",
     "output_type": "stream",
     "text": [
      "header:  {'Content-Type': 'application/json', 'x-simulated-trading': '1'}\n",
      "domain: https://www.okx.com\n",
      "url: /api/v5/market/tickers?instType=SPOT\n"
     ]
    }
   ],
   "source": [
    "import okx.MarketData as MarketData\n",
    "flag = \"1\"  # live trading:0 , demo trading: 1\n",
    "marketDataAPI = MarketData.MarketAPI(flag=flag)\n",
    "result = marketDataAPI.get_tickers(instType=\"SPOT\")\n",
    "# print(result)\n"
   ]
  },
  {
   "cell_type": "code",
   "execution_count": 4,
   "metadata": {},
   "outputs": [
    {
     "name": "stdout",
     "output_type": "stream",
     "text": [
      "body:  \n",
      "header:  {'Content-Type': 'application/json', 'OK-ACCESS-KEY': '8da5d3ad-7554-424e-a1c2-bfcead40dcdd', 'OK-ACCESS-SIGN': b'Idui3/pUAnWZ1vLryd0bjjjADaqgNrQUmdMu5pOPP0k=', 'OK-ACCESS-TIMESTAMP': '2023-04-13T10:57:34.988Z', 'OK-ACCESS-PASSPHRASE': 'lxc123@LXC', 'x-simulated-trading': '1'}\n",
      "domain: https://www.okx.com\n",
      "url: /api/v5/account/config\n",
      "{'code': '0', 'data': [{'acctLv': '1', 'autoLoan': False, 'ctIsoMode': 'automatic', 'greeksType': 'PA', 'ip': '', 'label': 'lxc_test', 'level': 'Lv1', 'levelTmp': '', 'liquidationGear': '-1', 'mgnIsoMode': 'automatic', 'opAuth': '0', 'posMode': 'net_mode', 'roleType': '0', 'spotOffsetType': '', 'traderInsts': [], 'uid': '427695770406422875'}], 'msg': ''}\n",
      "Simple mode\n"
     ]
    }
   ],
   "source": [
    "import okx.Account as Account\n",
    "flag = \"1\"\n",
    "api_key = \"8da5d3ad-7554-424e-a1c2-bfcead40dcdd\"\n",
    "secret_key = \"E086EDAC65DF1E55DA72CA2483327CA2\"\n",
    "IP = \"\"\n",
    "passphrase = \"lxc123@LXC\"\n",
    "Permissions = \"Read/Withdraw/Trade\"\n",
    "accountAPI = Account.AccountAPI(api_key, secret_key, passphrase, False, flag)\n",
    "result = accountAPI.get_account_config()\n",
    "# accountAPI.get_account_balance()\n",
    "print(result)\n",
    "if result['code'] == \"0\":\n",
    "    acctLv = result[\"data\"][0][\"acctLv\"]\n",
    "if acctLv == \"1\":\n",
    "    print(\"Simple mode\")\n",
    "elif acctLv == \"2\":\n",
    "    print(\"Single-currency margin mode\")\n",
    "elif acctLv == \"3\":\n",
    "    print(\"Multi-currency margin mode\")\n",
    "elif acctLv == \"4\":\n",
    "    print(\"Portfolio margin mode\")\n"
   ]
  },
  {
   "cell_type": "code",
   "execution_count": 5,
   "metadata": {},
   "outputs": [
    {
     "name": "stdout",
     "output_type": "stream",
     "text": [
      "body:  \n",
      "header:  {'Content-Type': 'application/json', 'OK-ACCESS-KEY': '8da5d3ad-7554-424e-a1c2-bfcead40dcdd', 'OK-ACCESS-SIGN': b'J1asv1ykBjSi4f00xFQEpW3WEXH4a/eiENsfMx+sGzo=', 'OK-ACCESS-TIMESTAMP': '2023-04-13T10:57:35.648Z', 'OK-ACCESS-PASSPHRASE': 'lxc123@LXC', 'x-simulated-trading': '1'}\n",
      "domain: https://www.okx.com\n",
      "url: /api/v5/account/balance\n",
      "BTC 3 3\n",
      "ETH 15 15\n",
      "OKB 300 300\n",
      "JFI 300 300\n",
      "UNI 1500 1500\n",
      "USDT 9000 9000\n",
      "TUSD 9000 9000\n",
      "USDK 9000 9000\n",
      "USDC 9000 9000\n",
      "PAX 9000 9000\n",
      "LTC 30 30\n",
      "TRX 30000 30000\n",
      "ADA 3000 3000\n"
     ]
    }
   ],
   "source": [
    "import okx.Account as Account\n",
    "\n",
    "\n",
    "\n",
    "flag = \"1\"\n",
    "api_key = \"8da5d3ad-7554-424e-a1c2-bfcead40dcdd\"\n",
    "secret_key = \"E086EDAC65DF1E55DA72CA2483327CA2\"\n",
    "IP = \"\"\n",
    "passphrase = \"lxc123@LXC\"\n",
    "Permissions = \"Read/Withdraw/Trade\"\n",
    "accountAPI = Account.AccountAPI(api_key, secret_key, passphrase, False, flag)\n",
    "\n",
    "# result = accountAPI.get_account_config()\n",
    "result=accountAPI.get_account_balance()\n",
    "for item in result['data']:\n",
    "    for detail in item['details']:\n",
    "        print(detail['ccy'],detail['cashBal'],detail['availBal'])   #显示币种，币种余额，可用余额\n"
   ]
  },
  {
   "cell_type": "code",
   "execution_count": 6,
   "metadata": {},
   "outputs": [
    {
     "name": "stdout",
     "output_type": "stream",
     "text": [
      "body:  \n",
      "header:  {'Content-Type': 'application/json', 'OK-ACCESS-KEY': '8da5d3ad-7554-424e-a1c2-bfcead40dcdd', 'OK-ACCESS-SIGN': b'2nLzMSOgLqoIQeJWFAG61d9rdijg7en/ZMfKCBzYagQ=', 'OK-ACCESS-TIMESTAMP': '2023-04-13T10:57:36.113Z', 'OK-ACCESS-PASSPHRASE': 'lxc123@LXC', 'x-simulated-trading': '1'}\n",
      "domain: https://www.okx.com\n",
      "url: /api/v5/asset/deposit-history\n",
      "{'code': '0', 'data': [], 'msg': ''}\n"
     ]
    }
   ],
   "source": [
    "import okx.Funding as Funding\n",
    "\n",
    "flag = \"1\"\n",
    "api_key = \"8da5d3ad-7554-424e-a1c2-bfcead40dcdd\"\n",
    "secret_key = \"E086EDAC65DF1E55DA72CA2483327CA2\"\n",
    "IP = \"\"\n",
    "passphrase = \"lxc123@LXC\"\n",
    "Permissions = \"Read/Withdraw/Trade\"\n",
    "\n",
    "fundingAPI=Funding.FundingAPI(api_key, secret_key, passphrase, False, flag)\n",
    "result=fundingAPI.get_deposit_history()\n",
    "print(result)"
   ]
  },
  {
   "cell_type": "code",
   "execution_count": 19,
   "metadata": {},
   "outputs": [
    {
     "name": "stdout",
     "output_type": "stream",
     "text": [
      "header:  {'Content-Type': 'application/json', 'x-simulated-trading': '1'}\n",
      "domain: https://www.okx.com\n",
      "url: /api/v5/market/history-candles?instId=BTC-USD-SWAP&bar=15m\n",
      "<class 'list'>\n",
      "(100, 5)\n"
     ]
    },
    {
     "data": {
      "text/html": [
       "<div>\n",
       "<style scoped>\n",
       "    .dataframe tbody tr th:only-of-type {\n",
       "        vertical-align: middle;\n",
       "    }\n",
       "\n",
       "    .dataframe tbody tr th {\n",
       "        vertical-align: top;\n",
       "    }\n",
       "\n",
       "    .dataframe thead th {\n",
       "        text-align: right;\n",
       "    }\n",
       "</style>\n",
       "<table border=\"1\" class=\"dataframe\">\n",
       "  <thead>\n",
       "    <tr style=\"text-align: right;\">\n",
       "      <th></th>\n",
       "      <th>open</th>\n",
       "      <th>high</th>\n",
       "      <th>low</th>\n",
       "      <th>close</th>\n",
       "      <th>volume</th>\n",
       "    </tr>\n",
       "  </thead>\n",
       "  <tbody>\n",
       "    <tr>\n",
       "      <th>0</th>\n",
       "      <td>30227.5</td>\n",
       "      <td>30275.4</td>\n",
       "      <td>30227.5</td>\n",
       "      <td>30233.8</td>\n",
       "      <td>129264</td>\n",
       "    </tr>\n",
       "    <tr>\n",
       "      <th>1</th>\n",
       "      <td>30227.4</td>\n",
       "      <td>30269.3</td>\n",
       "      <td>30215.3</td>\n",
       "      <td>30228.3</td>\n",
       "      <td>104120</td>\n",
       "    </tr>\n",
       "    <tr>\n",
       "      <th>2</th>\n",
       "      <td>30196.9</td>\n",
       "      <td>30238.4</td>\n",
       "      <td>30179.8</td>\n",
       "      <td>30231.4</td>\n",
       "      <td>110791</td>\n",
       "    </tr>\n",
       "    <tr>\n",
       "      <th>3</th>\n",
       "      <td>30239.2</td>\n",
       "      <td>30246</td>\n",
       "      <td>30199.9</td>\n",
       "      <td>30199.9</td>\n",
       "      <td>49427</td>\n",
       "    </tr>\n",
       "    <tr>\n",
       "      <th>4</th>\n",
       "      <td>30212.1</td>\n",
       "      <td>30247</td>\n",
       "      <td>29613.2</td>\n",
       "      <td>30238.6</td>\n",
       "      <td>142472</td>\n",
       "    </tr>\n",
       "    <tr>\n",
       "      <th>...</th>\n",
       "      <td>...</td>\n",
       "      <td>...</td>\n",
       "      <td>...</td>\n",
       "      <td>...</td>\n",
       "      <td>...</td>\n",
       "    </tr>\n",
       "    <tr>\n",
       "      <th>95</th>\n",
       "      <td>30018.4</td>\n",
       "      <td>30029.3</td>\n",
       "      <td>29767.1</td>\n",
       "      <td>30016.1</td>\n",
       "      <td>58627</td>\n",
       "    </tr>\n",
       "    <tr>\n",
       "      <th>96</th>\n",
       "      <td>30024.6</td>\n",
       "      <td>30027.4</td>\n",
       "      <td>30002.7</td>\n",
       "      <td>30017.5</td>\n",
       "      <td>40965</td>\n",
       "    </tr>\n",
       "    <tr>\n",
       "      <th>97</th>\n",
       "      <td>30042.3</td>\n",
       "      <td>30049.5</td>\n",
       "      <td>30006.1</td>\n",
       "      <td>30029.3</td>\n",
       "      <td>83698</td>\n",
       "    </tr>\n",
       "    <tr>\n",
       "      <th>98</th>\n",
       "      <td>30011.4</td>\n",
       "      <td>30049.9</td>\n",
       "      <td>30008.8</td>\n",
       "      <td>30042.2</td>\n",
       "      <td>49910</td>\n",
       "    </tr>\n",
       "    <tr>\n",
       "      <th>99</th>\n",
       "      <td>30029.9</td>\n",
       "      <td>30029.9</td>\n",
       "      <td>30009</td>\n",
       "      <td>30014.9</td>\n",
       "      <td>29367</td>\n",
       "    </tr>\n",
       "  </tbody>\n",
       "</table>\n",
       "<p>100 rows × 5 columns</p>\n",
       "</div>"
      ],
      "text/plain": [
       "       open     high      low    close  volume\n",
       "0   30227.5  30275.4  30227.5  30233.8  129264\n",
       "1   30227.4  30269.3  30215.3  30228.3  104120\n",
       "2   30196.9  30238.4  30179.8  30231.4  110791\n",
       "3   30239.2    30246  30199.9  30199.9   49427\n",
       "4   30212.1    30247  29613.2  30238.6  142472\n",
       "..      ...      ...      ...      ...     ...\n",
       "95  30018.4  30029.3  29767.1  30016.1   58627\n",
       "96  30024.6  30027.4  30002.7  30017.5   40965\n",
       "97  30042.3  30049.5  30006.1  30029.3   83698\n",
       "98  30011.4  30049.9  30008.8  30042.2   49910\n",
       "99  30029.9  30029.9    30009  30014.9   29367\n",
       "\n",
       "[100 rows x 5 columns]"
      ]
     },
     "execution_count": 19,
     "metadata": {},
     "output_type": "execute_result"
    }
   ],
   "source": [
    "import okx.MarketData as MarketData\n",
    "import pandas as pd\n",
    "import numpy as np\n",
    "flag = \"1\"  # live trading:0 , demo trading: 1\n",
    "marketDataAPI = MarketData.MarketAPI(flag=flag)\n",
    "# result = marketDataAPI.get_candlesticks(instId='BTC-USD-SWAP')\n",
    "result=marketDataAPI.get_history_candlesticks(instId='BTC-USD-SWAP',bar='15m')\n",
    "print(type(result['data']))\n",
    "df = pd.DataFrame(result['data'])\n",
    "k_data = df.iloc[:, 1:6]\n",
    "k_data.rename(columns={1:'open',2:'high',3:'low',4:'close',5:'volume'}, inplace=True)\n",
    "print(k_data.shape)\n",
    "k_data"
   ]
  },
  {
   "cell_type": "code",
   "execution_count": 21,
   "metadata": {},
   "outputs": [
    {
     "name": "stdout",
     "output_type": "stream",
     "text": [
      "body:  {\"instId\": \"BTC-USDT\", \"tdMode\": \"cash\", \"side\": \"sell\", \"ordType\": \"market\", \"sz\": \"2\", \"ccy\": \"\", \"clOrdId\": \"\", \"tag\": \"\", \"posSide\": \"\", \"px\": \"\", \"reduceOnly\": \"\", \"tgtCcy\": \"\"}\n",
      "header:  {'Content-Type': 'application/json', 'OK-ACCESS-KEY': '8da5d3ad-7554-424e-a1c2-bfcead40dcdd', 'OK-ACCESS-SIGN': b'D2tBw9OhJJgdzge8IwLGn746PJ+vTHJ1QHxRPlRXY3M=', 'OK-ACCESS-TIMESTAMP': '2023-04-13T11:16:19.984Z', 'OK-ACCESS-PASSPHRASE': 'lxc123@LXC', 'x-simulated-trading': '1'}\n",
      "domain: https://www.okx.com\n",
      "url: /api/v5/trade/order\n",
      "{'code': '1', 'data': [{'clOrdId': '', 'ordId': '', 'sCode': '51008', 'sMsg': 'Order failed. Insufficient BTC balance in account. ', 'tag': ''}], 'msg': 'All operations failed'}\n"
     ]
    }
   ],
   "source": [
    "import okx.Trade as Trade\n",
    "\n",
    "flag = \"1\"\n",
    "api_key = \"8da5d3ad-7554-424e-a1c2-bfcead40dcdd\"\n",
    "secret_key = \"E086EDAC65DF1E55DA72CA2483327CA2\"\n",
    "IP = \"\"\n",
    "passphrase = \"lxc123@LXC\"\n",
    "Permissions = \"Read/Withdraw/Trade\"\n",
    "\n",
    "tradeAPI=Trade.TradeAPI(api_key, secret_key, passphrase, False, flag)\n",
    "\n",
    "result=tradeAPI.place_order(instId='BTC-USDT',tdMode='cash',side='sell',ordType='market',sz='2')\n",
    "print(result)"
   ]
  }
 ],
 "metadata": {
  "kernelspec": {
   "display_name": "Python 3",
   "language": "python",
   "name": "python3"
  },
  "language_info": {
   "codemirror_mode": {
    "name": "ipython",
    "version": 3
   },
   "file_extension": ".py",
   "mimetype": "text/x-python",
   "name": "python",
   "nbconvert_exporter": "python",
   "pygments_lexer": "ipython3",
   "version": "3.9.7"
  },
  "orig_nbformat": 4
 },
 "nbformat": 4,
 "nbformat_minor": 2
}
