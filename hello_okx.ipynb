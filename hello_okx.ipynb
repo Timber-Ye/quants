{
 "cells": [
  {
   "cell_type": "markdown",
   "source": [
    "1. 访问市场数据"
   ],
   "metadata": {
    "collapsed": false
   }
  },
  {
   "cell_type": "code",
   "execution_count": null,
   "outputs": [],
   "source": [
    "import okx.MarketData as MarketData\n",
    "flag = \"1\" # live trading:0 , demo trading: 1\n",
    "marketDataAPI = MarketData.MarketAPI (flag=flag)\n",
    "result = marketDataAPI.get_tickers(instType=\"SPOT\")\n",
    "print(result)"
   ],
   "metadata": {
    "collapsed": false,
    "ExecuteTime": {
     "start_time": "2023-04-06T19:31:30.399866Z",
     "end_time": "2023-04-06T19:31:31.287495Z"
    }
   }
  },
  {
   "cell_type": "markdown",
   "source": [
    "2. 阅读我们可用的交易对"
   ],
   "metadata": {
    "collapsed": false
   }
  },
  {
   "cell_type": "code",
   "execution_count": null,
   "outputs": [],
   "source": [
    "import okx.PublicData as PublicData\n",
    "if __name__ == 'main':\n",
    "    flag = \"1\"\n",
    "    publicDataAPI = PublicData.PublicAPI (flag=flag)\n",
    "    result = publicDataAPI.get_instruments (\n",
    "        instType = \"SPOT\"\n",
    "        )\n",
    "    print(result)"
   ],
   "metadata": {
    "collapsed": false
   }
  },
  {
   "cell_type": "markdown",
   "source": [
    "3. 读取您的帐户余额"
   ],
   "metadata": {
    "collapsed": false
   }
  },
  {
   "cell_type": "code",
   "execution_count": null,
   "outputs": [],
   "source": [
    "import okx.Account as Account\n",
    "flag = \"1\"\n",
    "api_key = \"061c56b3-XXXXXXXXXXXXXXXXXXXXXXXXX\"\n",
    "secret_key = \"1809XXXXXXXXXXXXXXXXXXXX\"\n",
    "IP = \"\"\n",
    "passphrase = \"veXXXXXXXXXXXX\"\n",
    "Permissions = \"Read/Trade\"\n",
    "# live trading:0 , demo trading: 1\n",
    "accountAPI = Account.AccountAPI(api_key, secret_key, passphrase, False, flag)\n",
    "result = accountAPI.get_account_balance()\n",
    "print (result)"
   ],
   "metadata": {
    "collapsed": false
   }
  },
  {
   "cell_type": "markdown",
   "source": [
    "4. 读取您的帐户余额"
   ],
   "metadata": {
    "collapsed": false
   }
  },
  {
   "cell_type": "code",
   "execution_count": null,
   "outputs": [],
   "source": [
    "import okx.Account as Account\n",
    "flag = \"1\"\n",
    "api_key = \"061c56b3-XXXXXXXXXXXXXXXXXXXXXXXXX\"\n",
    "secret_key = \"1809XXXXXXXXXXXXXXXXXXXX\"\n",
    "IP = \"\"\n",
    "passphrase = \"veXXXXXXXXXXXX\"\n",
    "Permissions = \"Read/Trade\"\n",
    "# live trading:0 , demo trading: 1\n",
    "accountAPI = Account.AccountAPI(api_key, secret_key, passphrase, False, flag)\n",
    "result = accountAPI.get_account_balance()\n",
    "print (result)"
   ],
   "metadata": {
    "collapsed": false
   }
  },
  {
   "cell_type": "markdown",
   "source": [
    "5. 确定您的当前帐户配置为哪种模式\n",
    "在我们的统一帐户系统中，有四种帐户模式：\n",
    "+ 简单帐户\n",
    "+ 单一货币保证金账户\n",
    "+ 多币种保证金账户\n",
    "+ 投资组合保证金账户"
   ],
   "metadata": {
    "collapsed": false
   }
  },
  {
   "cell_type": "code",
   "execution_count": null,
   "outputs": [],
   "source": [
    "import okx.Account as Account\n",
    "flag = \"1\"\n",
    "api_key = \"061c56b3-XXXXXXXXXXXXXXXXXXXXXXXXX\"\n",
    "secret_key = \"1809XXXXXXXXXXXXXXXXXXXX\"\n",
    "IP = \"\"\n",
    "passphrase = \"veXXXXXXXXXXXX\"\n",
    "Permissions = \"Read/Trade\"\n",
    "accountAPI = Account.AccountAPI (api_key, secret_key, passphrase, False, flag)\n",
    "result = accountAPI.get_account_config()\n",
    "print (result)\n",
    "if result ['code'] == \"0\":\n",
    "    acctLv = result[\"data\"][0][\"acctLv\"]\n",
    "if acctLv == \"1\":\n",
    "    print (\"Simple mode\")\n",
    "elif acctLv == \"2\":\n",
    "    print(\"Single-currency margin mode\")\n",
    "elif acctLv == \"3\":\n",
    "    print(\"Multi-currency margin mode\")\n",
    "elif acctLv == \"4\":\n",
    "    print(\"Portfolio margin mode\")"
   ],
   "metadata": {
    "collapsed": false
   }
  }
 ],
 "metadata": {
  "kernelspec": {
   "display_name": "Python 3",
   "language": "python",
   "name": "python3"
  },
  "language_info": {
   "codemirror_mode": {
    "name": "ipython",
    "version": 2
   },
   "file_extension": ".py",
   "mimetype": "text/x-python",
   "name": "python",
   "nbconvert_exporter": "python",
   "pygments_lexer": "ipython2",
   "version": "2.7.6"
  }
 },
 "nbformat": 4,
 "nbformat_minor": 0
}
